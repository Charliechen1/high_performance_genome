{
 "cells": [
  {
   "cell_type": "markdown",
   "metadata": {},
   "source": [
    "### 1.1 Data Preprocessing (Families)"
   ]
  },
  {
   "cell_type": "code",
   "execution_count": 4,
   "metadata": {},
   "outputs": [],
   "source": [
    "import pandas as pd\n",
    "import numpy as np\n",
    "import torch\n",
    "import os\n",
    "import sys\n",
    "import configparser\n",
    "import json"
   ]
  },
  {
   "cell_type": "code",
   "execution_count": 5,
   "metadata": {},
   "outputs": [
    {
     "data": {
      "text/plain": [
       "['../../config/model.conf']"
      ]
     },
     "execution_count": 5,
     "metadata": {},
     "output_type": "execute_result"
    }
   ],
   "source": [
    "config_path = \"../../config/main.conf\"\n",
    "conf = configparser.ConfigParser()\n",
    "conf.read(config_path)\n",
    "\n",
    "model_conf = configparser.ConfigParser()\n",
    "model_conf.read(conf['path']['model'])"
   ]
  },
  {
   "cell_type": "code",
   "execution_count": 7,
   "metadata": {},
   "outputs": [
    {
     "name": "stdout",
     "output_type": "stream",
     "text": [
      "Available dataset partitions:  ['train', 'dev', 'contact_maps', 'GO', '.ipynb_checkpoints', 'test', 'download.sh']\n"
     ]
    }
   ],
   "source": [
    "data_partitions_dirpath = conf['path']['data_part']\n",
    "print('Available dataset partitions: ', os.listdir(data_partitions_dirpath))"
   ]
  },
  {
   "cell_type": "code",
   "execution_count": 8,
   "metadata": {},
   "outputs": [
    {
     "name": "stdout",
     "output_type": "stream",
     "text": [
      "Dataset partition \"test\" has 126171 sequences\n",
      "Dataset partition \"dev\" has 126171 sequences\n",
      "Dataset partition \"train\" has 1086741 sequences\n",
      "CPU times: user 6.38 s, sys: 1.41 s, total: 7.8 s\n",
      "Wall time: 16.4 s\n"
     ]
    }
   ],
   "source": [
    "%%time\n",
    "def read_all_shards(partition='dev', data_dir=data_partitions_dirpath):\n",
    "    shards = []\n",
    "    for fn in os.listdir(os.path.join(data_dir, partition)):\n",
    "        with open(os.path.join(data_dir, partition, fn)) as f:\n",
    "            shards.append(pd.read_csv(f, index_col=None))\n",
    "    return pd.concat(shards)\n",
    "\n",
    "test = read_all_shards('test')\n",
    "dev = read_all_shards('dev')\n",
    "train = read_all_shards('train')\n",
    "\n",
    "partitions = {'test': test, 'dev': dev, 'train': train}\n",
    "for name, df in partitions.items():\n",
    "    print('Dataset partition \"%s\" has %d sequences' % (name, len(df)))"
   ]
  },
  {
   "cell_type": "code",
   "execution_count": 13,
   "metadata": {},
   "outputs": [],
   "source": [
    "SAMPLE_RATE = 10\n",
    "\n",
    "fams = np.array(train[\"family_accession\"].value_counts().index)[::SAMPLE_RATE]"
   ]
  },
  {
   "cell_type": "code",
   "execution_count": 14,
   "metadata": {},
   "outputs": [],
   "source": [
    "fam_list = ','.join(fams)\n",
    "with open('../../data/contact_maps/pfam_list.txt', 'w') as file:\n",
    "    file.write(fam_list)"
   ]
  },
  {
   "cell_type": "markdown",
   "metadata": {},
   "source": [
    "### 1.2 Contact Maps"
   ]
  },
  {
   "cell_type": "code",
   "execution_count": 6,
   "metadata": {},
   "outputs": [],
   "source": [
    "import numpy as np\n",
    "import Bio.PDB\n",
    "import os \n",
    "import scipy.sparse"
   ]
  },
  {
   "cell_type": "code",
   "execution_count": 7,
   "metadata": {},
   "outputs": [],
   "source": [
    "config_path = \"../../config/contact_maps.conf\"\n",
    "conf = configparser.ConfigParser()\n",
    "conf.read(config_path)\n",
    "\n",
    "filename = conf['path']['pdb_codes']\n",
    "pdb_dir = conf['path']['pdb_dir']\n",
    "contact_map_dir = conf['path']['contact_maps_dir']\n",
    "sequence_dir = conf['path']['sequence_dir']"
   ]
  },
  {
   "cell_type": "code",
   "execution_count": 8,
   "metadata": {},
   "outputs": [],
   "source": [
    "def calc_residue_dist(residue_one, residue_two, aa_cache) :\n",
    "    \"\"\"Returns the C-alpha distance between two residues\"\"\"       \n",
    "    if aa_cache[residue_one.resname] and aa_cache[residue_two.resname]:\n",
    "        diff_vector  = residue_one[\"CA\"].coord - residue_two[\"CA\"].coord\n",
    "        return np.sqrt(np.sum(diff_vector * diff_vector))\n",
    "    else:\n",
    "        return 0\n",
    "        \n",
    "def calc_dist_matrix(chain, aa_cache) :\n",
    "    \"\"\"Returns a matrix of C-alpha distances between two chains\"\"\"\n",
    "    answer = np.zeros((len(chain), len(chain)), np.float)\n",
    "    for row, residue_one in enumerate(chain) :\n",
    "        for col, residue_two in enumerate(chain) :\n",
    "            answer[row, col] = calc_residue_dist(residue_one, residue_two, aa_cache)\n",
    "    return answer\n"
   ]
  },
  {
   "cell_type": "code",
   "execution_count": 9,
   "metadata": {},
   "outputs": [],
   "source": [
    "def calc_dist_matrix_new(sequence):\n",
    "    X = []\n",
    "    for res in sequence:\n",
    "        X.append(res['CA'].coord)\n",
    "    X = np.array(X)\n",
    "    e = np.ones(X.shape[0]).reshape(-1, 1)\n",
    "    s = np.sum(np.square(X), axis = 1).reshape(-1, 1)\n",
    "    dist = np.sqrt((s @ e.T) + (e @ s.T) - (2 * X @ X.T))\n",
    "    return dist"
   ]
  },
  {
   "cell_type": "code",
   "execution_count": 10,
   "metadata": {},
   "outputs": [
    {
     "name": "stdout",
     "output_type": "stream",
     "text": [
      "Downloading PDB structure '101M'...\n",
      "(154, 154)\n",
      "Number of maps generated: 1\n",
      "Number of pdb codes skipped: 0\n",
      "CPU times: user 59.3 ms, sys: 13 ms, total: 72.3 ms\n",
      "Wall time: 267 ms\n"
     ]
    },
    {
     "name": "stderr",
     "output_type": "stream",
     "text": [
      "/global/homes/n/nswenson/.conda/envs/biopy/lib/python3.7/site-packages/ipykernel_launcher.py:8: RuntimeWarning: invalid value encountered in sqrt\n",
      "  \n",
      "/global/homes/n/nswenson/.conda/envs/biopy/lib/python3.7/site-packages/ipykernel_launcher.py:19: RuntimeWarning: invalid value encountered in less\n",
      "/global/homes/n/nswenson/.conda/envs/biopy/lib/python3.7/site-packages/ipykernel_launcher.py:19: RuntimeWarning: invalid value encountered in greater\n"
     ]
    }
   ],
   "source": [
    "%%time\n",
    "sequence_dict = {}\n",
    "pdb_file = open(filename, 'r')\n",
    "pdb_list = pdb_file.read()\n",
    "num_successful_maps = 0\n",
    "num_failed_maps = 0\n",
    "for pdb_code in pdb_list.split(', ')[0:1]: #change to all codes when deployed\n",
    "    pdb_code = '101M'\n",
    "    pdbl = Bio.PDB.PDBList()\n",
    "    pdb_path = pdbl.retrieve_pdb_file(pdb_code, pdir = pdb_dir, file_format = 'pdb', overwrite = True)\n",
    "    structure = Bio.PDB.PDBParser(QUIET = True).get_structure(pdb_code, pdb_path)\n",
    "    model = structure[0]\n",
    "    sequence = Bio.PDB.Selection.unfold_entities(model, 'R')\n",
    "    if len(sequence) < 3000:\n",
    "        try:\n",
    "            ppb = Bio.PDB.CaPPBuilder()\n",
    "            for pp in ppb.build_peptides(structure):\n",
    "                sequence_dict[pdb_code] = str(pp.get_sequence())\n",
    "            dist_matrix = calc_dist_matrix_new(pp)\n",
    "            contact_map = np.array((dist_matrix < 8.0) & (dist_matrix > 0.01))*1\n",
    "            sparse_contact_map = scipy.sparse.coo_matrix(contact_map)\n",
    "            print(sparse_contact_map.shape)\n",
    "            scipy.sparse.save_npz(contact_map_dir + '/' + pdb_code + '.npz', sparse_contact_map)\n",
    "            num_successful_maps += 1\n",
    "        except:\n",
    "            e = sys.exc_info()[0]\n",
    "            print('Error for PDB code {}'.format(pdb_code), e)\n",
    "            num_failed_maps += 1\n",
    "    else:\n",
    "        print('Skipping PDB code {} because it is too long'.format(pdb_code))\n",
    "        num_failed_maps += 1\n",
    "    \n",
    "    os.remove(pdb_path)\n",
    "    \n",
    "json_data = json.dumps(sequence_dict)\n",
    "f = open(sequence_dir,\"w\")\n",
    "f.write(json_data)\n",
    "f.close()\n",
    "        \n",
    "print('Number of maps generated: {}'.format(num_successful_maps))\n",
    "print('Number of pdb codes skipped: {}'.format(num_failed_maps))"
   ]
  },
  {
   "cell_type": "code",
   "execution_count": 54,
   "metadata": {},
   "outputs": [],
   "source": [
    "import json\n",
    "\n",
    "json_data = json.dumps(sequence_dict)\n",
    "f = open(\"dict.json\",\"w\")\n",
    "f.write(json_data)\n",
    "f.close()"
   ]
  },
  {
   "cell_type": "code",
   "execution_count": 56,
   "metadata": {},
   "outputs": [
    {
     "data": {
      "text/plain": [
       "{'101M': 'MVLSEGEWQLVLHVWAKVEADVAGHGQDILIRLFKSHPETLEKFDRVKHLKTEAEMKASEDLKKHGVTVLTALGAILKKKGHHEAELKPLAQSHATKHKIPIKYLEFISEAIIHVLHSRHPGNFGADAQGAMNKALELFRKDIAAKYKELGYQG'}"
      ]
     },
     "execution_count": 56,
     "metadata": {},
     "output_type": "execute_result"
    }
   ],
   "source": [
    "with open(\"dict.json\",\"r\") as f:\n",
    "    sequence_dict2 = json.load(f)\n",
    "    f.close()\n",
    "sequence_dict2"
   ]
  },
  {
   "cell_type": "code",
   "execution_count": 46,
   "metadata": {},
   "outputs": [],
   "source": [
    "try:\n",
    "    os.mkdir('../data/contact_maps/Contact Maps')\n",
    "except:\n",
    "    pass"
   ]
  },
  {
   "cell_type": "code",
   "execution_count": 40,
   "metadata": {},
   "outputs": [],
   "source": [
    "os.rmdir('../data/contact_maps/CM')"
   ]
  },
  {
   "cell_type": "code",
   "execution_count": 83,
   "metadata": {},
   "outputs": [
    {
     "data": {
      "text/plain": [
       "18682"
      ]
     },
     "execution_count": 83,
     "metadata": {},
     "output_type": "execute_result"
    }
   ],
   "source": [
    "len(pdb_list)"
   ]
  },
  {
   "cell_type": "code",
   "execution_count": 17,
   "metadata": {},
   "outputs": [
    {
     "name": "stdout",
     "output_type": "stream",
     "text": [
      "CPU times: user 340 ms, sys: 0 ns, total: 340 ms\n",
      "Wall time: 379 ms\n"
     ]
    }
   ],
   "source": [
    "%%time\n",
    "structure = Bio.PDB.PDBParser(QUIET = True).get_structure(pdb_code, pdb_path)"
   ]
  },
  {
   "cell_type": "code",
   "execution_count": 8,
   "metadata": {},
   "outputs": [
    {
     "name": "stdout",
     "output_type": "stream",
     "text": [
      "2020-02-06 16:50:16.027645\n",
      "2020-02-06 16:50:16.027811\n",
      "2020-02-06 16:50:16.028224\n",
      "2020-02-06 16:50:35.347644\n",
      "2020-02-06 16:50:35.365070\n",
      "CPU times: user 19.3 s, sys: 27.9 ms, total: 19.3 s\n",
      "Wall time: 19.3 s\n"
     ]
    },
    {
     "data": {
      "text/plain": [
       "1630"
      ]
     },
     "execution_count": 8,
     "metadata": {},
     "output_type": "execute_result"
    }
   ],
   "source": [
    "%%time\n",
    "import datetime\n",
    "print(datetime.datetime.now())\n",
    "model = structure[0]\n",
    "print(datetime.datetime.now())\n",
    "sequence = Bio.PDB.Selection.unfold_entities(model, 'R')\n",
    "print(datetime.datetime.now())\n",
    "dist_matrix = calc_dist_matrix(sequence, aa_cache)\n",
    "print(datetime.datetime.now())\n",
    "contact_map = np.array((dist_matrix < 8.0) & (dist_matrix > 0.01))*1\n",
    "print(datetime.datetime.now())\n",
    "len(sequence)"
   ]
  },
  {
   "cell_type": "code",
   "execution_count": 104,
   "metadata": {},
   "outputs": [
    {
     "name": "stdout",
     "output_type": "stream",
     "text": [
      "CPU times: user 783 µs, sys: 14 µs, total: 797 µs\n",
      "Wall time: 806 µs\n"
     ]
    }
   ],
   "source": [
    "%%time\n",
    "aa_cache = {}\n",
    "for res in sequence:\n",
    "    if res.resname not in aa_cache:\n",
    "        aa_cache[res.resname] = Bio.PDB.is_aa(res)"
   ]
  },
  {
   "cell_type": "code",
   "execution_count": 20,
   "metadata": {},
   "outputs": [
    {
     "name": "stdout",
     "output_type": "stream",
     "text": [
      "CPU times: user 27 µs, sys: 0 ns, total: 27 µs\n",
      "Wall time: 29.8 µs\n"
     ]
    }
   ],
   "source": [
    "%%time\n",
    "diff_vector  = sequence[0][\"CA\"].coord - sequence[1][\"CA\"].coord"
   ]
  },
  {
   "cell_type": "code",
   "execution_count": 9,
   "metadata": {},
   "outputs": [
    {
     "name": "stdout",
     "output_type": "stream",
     "text": [
      "CPU times: user 19.5 s, sys: 16 ms, total: 19.5 s\n",
      "Wall time: 19.5 s\n"
     ]
    }
   ],
   "source": [
    "%%time\n",
    "#sequence = Bio.PDB.Selection.unfold_entities(model, 'R')\n",
    "dist_matrix = calc_dist_matrix(sequence, aa_cache)\n",
    "#contact_map = np.array((dist_matrix < 8.0) & (dist_matrix > 0.01))*1\n",
    "#sparse_contact_map = scipy.sparse.coo_matrix(contact_map)\n",
    "#scipy.sparse.save_npz(contact_map_dir + '/' + pdb_code + '.npz', sparse_contact_map)"
   ]
  },
  {
   "cell_type": "code",
   "execution_count": 31,
   "metadata": {},
   "outputs": [
    {
     "name": "stdout",
     "output_type": "stream",
     "text": [
      "CPU times: user 35 µs, sys: 0 ns, total: 35 µs\n",
      "Wall time: 37.4 µs\n"
     ]
    }
   ],
   "source": [
    "%%time\n",
    "diff_vector = sequence[0]['CA'].coord -  sequence[1]['CA'].coord"
   ]
  },
  {
   "cell_type": "code",
   "execution_count": 32,
   "metadata": {},
   "outputs": [
    {
     "name": "stdout",
     "output_type": "stream",
     "text": [
      "CPU times: user 5 µs, sys: 0 ns, total: 5 µs\n",
      "Wall time: 6.91 µs\n"
     ]
    },
    {
     "data": {
      "text/plain": [
       "True"
      ]
     },
     "execution_count": 32,
     "metadata": {},
     "output_type": "execute_result"
    }
   ],
   "source": [
    "%%time\n",
    "aa_cache[sequence[0].resname]"
   ]
  },
  {
   "cell_type": "code",
   "execution_count": 33,
   "metadata": {},
   "outputs": [
    {
     "name": "stdout",
     "output_type": "stream",
     "text": [
      "CPU times: user 79 µs, sys: 0 ns, total: 79 µs\n",
      "Wall time: 83 µs\n"
     ]
    },
    {
     "data": {
      "text/plain": [
       "3.805978"
      ]
     },
     "execution_count": 33,
     "metadata": {},
     "output_type": "execute_result"
    }
   ],
   "source": [
    "%%time\n",
    "np.sqrt(np.sum(diff_vector * diff_vector))"
   ]
  },
  {
   "cell_type": "code",
   "execution_count": 35,
   "metadata": {},
   "outputs": [
    {
     "name": "stdout",
     "output_type": "stream",
     "text": [
      "CPU times: user 158 µs, sys: 0 ns, total: 158 µs\n",
      "Wall time: 163 µs\n"
     ]
    },
    {
     "data": {
      "text/plain": [
       "3.805978"
      ]
     },
     "execution_count": 35,
     "metadata": {},
     "output_type": "execute_result"
    }
   ],
   "source": [
    "%%time\n",
    "np.sqrt(np.sum(np.square(diff_vector)))"
   ]
  },
  {
   "cell_type": "code",
   "execution_count": 38,
   "metadata": {},
   "outputs": [
    {
     "name": "stdout",
     "output_type": "stream",
     "text": [
      "CPU times: user 125 µs, sys: 0 ns, total: 125 µs\n",
      "Wall time: 87.7 µs\n"
     ]
    },
    {
     "data": {
      "text/plain": [
       "3.805978"
      ]
     },
     "execution_count": 38,
     "metadata": {},
     "output_type": "execute_result"
    }
   ],
   "source": [
    "%%time\n",
    "np.linalg.norm(diff_vector)"
   ]
  },
  {
   "cell_type": "code",
   "execution_count": 39,
   "metadata": {},
   "outputs": [
    {
     "name": "stdout",
     "output_type": "stream",
     "text": [
      "CPU times: user 150 µs, sys: 0 ns, total: 150 µs\n",
      "Wall time: 111 µs\n"
     ]
    },
    {
     "data": {
      "text/plain": [
       "3.805978"
      ]
     },
     "execution_count": 39,
     "metadata": {},
     "output_type": "execute_result"
    }
   ],
   "source": [
    "%%time\n",
    "np.linalg.norm(sequence[0]['CA'].coord -  sequence[1]['CA'].coord)"
   ]
  },
  {
   "cell_type": "code",
   "execution_count": 41,
   "metadata": {},
   "outputs": [
    {
     "data": {
      "text/plain": [
       "array([ 0.32000065, -1.3210001 , -3.5550003 ], dtype=float32)"
      ]
     },
     "execution_count": 41,
     "metadata": {},
     "output_type": "execute_result"
    }
   ],
   "source": [
    "diff_vector"
   ]
  },
  {
   "cell_type": "code",
   "execution_count": 46,
   "metadata": {},
   "outputs": [
    {
     "name": "stdout",
     "output_type": "stream",
     "text": [
      "CPU times: user 46 µs, sys: 1e+03 ns, total: 47 µs\n",
      "Wall time: 49.1 µs\n"
     ]
    },
    {
     "data": {
      "text/plain": [
       "array([ 0, -1, -3])"
      ]
     },
     "execution_count": 46,
     "metadata": {},
     "output_type": "execute_result"
    }
   ],
   "source": [
    "%%time\n",
    "diff_vector_int = diff_vector.astype(int)\n",
    "diff_vector_int"
   ]
  },
  {
   "cell_type": "code",
   "execution_count": 45,
   "metadata": {},
   "outputs": [
    {
     "name": "stdout",
     "output_type": "stream",
     "text": [
      "CPU times: user 185 µs, sys: 2 µs, total: 187 µs\n",
      "Wall time: 193 µs\n"
     ]
    },
    {
     "data": {
      "text/plain": [
       "3.1622776601683795"
      ]
     },
     "execution_count": 45,
     "metadata": {},
     "output_type": "execute_result"
    }
   ],
   "source": [
    "%%time\n",
    "np.sqrt(np.sum(diff_vector_int * diff_vector_int))"
   ]
  },
  {
   "cell_type": "code",
   "execution_count": 5,
   "metadata": {},
   "outputs": [
    {
     "name": "stdout",
     "output_type": "stream",
     "text": [
      "Downloading PDB structure '1A28'...\n"
     ]
    }
   ],
   "source": [
    "pdb_code = '1A28'\n",
    "pdbl = Bio.PDB.PDBList()\n",
    "pdb_path = pdbl.retrieve_pdb_file(pdb_code, pdir = pdb_dir, file_format = 'pdb', overwrite = True)"
   ]
  },
  {
   "cell_type": "code",
   "execution_count": 207,
   "metadata": {},
   "outputs": [
    {
     "name": "stdout",
     "output_type": "stream",
     "text": [
      "CPU times: user 2.26 s, sys: 7.13 ms, total: 2.26 s\n",
      "Wall time: 2.26 s\n"
     ]
    }
   ],
   "source": [
    "%%time\n",
    "old_matrix = calc_dist_matrix(sequence, aa_cache)\n",
    "contact_map_old = np.array((old_matrix < 8.0) & (old_matrix > 0.1))*1"
   ]
  },
  {
   "cell_type": "code",
   "execution_count": 208,
   "metadata": {},
   "outputs": [
    {
     "name": "stdout",
     "output_type": "stream",
     "text": [
      "CPU times: user 12.6 ms, sys: 26 µs, total: 12.6 ms\n",
      "Wall time: 8.54 ms\n"
     ]
    }
   ],
   "source": [
    "%%time\n",
    "new_matrix = calc_dist_matrix_new(sequence, aa_cache)\n",
    "contact_map_new = np.array((new_matrix < 8.0) & (new_matrix > 0.1))*1"
   ]
  },
  {
   "cell_type": "code",
   "execution_count": 211,
   "metadata": {},
   "outputs": [
    {
     "data": {
      "text/plain": [
       "0"
      ]
     },
     "execution_count": 211,
     "metadata": {},
     "output_type": "execute_result"
    }
   ],
   "source": [
    "np.sum(contact_map_old != contact_map_new)"
   ]
  },
  {
   "cell_type": "code",
   "execution_count": 190,
   "metadata": {},
   "outputs": [
    {
     "data": {
      "text/plain": [
       "array([[0.        , 3.80005654, 5.72770815, 7.52073955, 8.81870349],\n",
       "       [3.80005654, 0.        , 3.80827122, 6.19648968, 9.02324472],\n",
       "       [5.72770815, 3.80827122, 0.04419417, 3.83790206, 6.54625967],\n",
       "       [7.52073955, 6.19648968, 3.83790206, 0.        , 3.85339238],\n",
       "       [8.81870349, 9.02324472, 6.54625967, 3.85339238, 0.        ]])"
      ]
     },
     "execution_count": 190,
     "metadata": {},
     "output_type": "execute_result"
    }
   ],
   "source": [
    "new_matrix"
   ]
  },
  {
   "cell_type": "code",
   "execution_count": 174,
   "metadata": {},
   "outputs": [
    {
     "data": {
      "text/plain": [
       "array([[0.        , 3.80017614, 5.72765207, 7.52076864, 8.8187027 ],\n",
       "       [3.80017614, 0.        , 3.80829239, 6.19655752, 9.02326679],\n",
       "       [5.72765207, 3.80829239, 0.        , 3.8377955 , 6.54619932],\n",
       "       [7.52076864, 6.19655752, 3.8377955 , 0.        , 3.85341954],\n",
       "       [8.8187027 , 9.02326679, 6.54619932, 3.85341954, 0.        ]])"
      ]
     },
     "execution_count": 174,
     "metadata": {},
     "output_type": "execute_result"
    }
   ],
   "source": [
    "old_matrix"
   ]
  },
  {
   "cell_type": "code",
   "execution_count": 182,
   "metadata": {},
   "outputs": [],
   "source": [
    "x0 = (sequence[0]['CA'].coord)\n",
    "x1 = (sequence[1]['CA'].coord)"
   ]
  },
  {
   "cell_type": "code",
   "execution_count": 183,
   "metadata": {},
   "outputs": [
    {
     "data": {
      "text/plain": [
       "3.8001761"
      ]
     },
     "execution_count": 183,
     "metadata": {},
     "output_type": "execute_result"
    }
   ],
   "source": [
    "np.linalg.norm(x0 - x1)"
   ]
  },
  {
   "cell_type": "code",
   "execution_count": 186,
   "metadata": {},
   "outputs": [
    {
     "data": {
      "text/plain": [
       "3.799928"
      ]
     },
     "execution_count": 186,
     "metadata": {},
     "output_type": "execute_result"
    }
   ],
   "source": [
    "np.sqrt(np.sum(np.square(x0)) + np.sum(np.square(x1)) - 2*x0.T@x1)"
   ]
  },
  {
   "cell_type": "code",
   "execution_count": null,
   "metadata": {},
   "outputs": [],
   "source": []
  }
 ],
 "metadata": {
  "kernelspec": {
   "display_name": "Python [conda env:.conda-biopy]",
   "language": "python",
   "name": "conda-env-.conda-biopy-py"
  },
  "language_info": {
   "codemirror_mode": {
    "name": "ipython",
    "version": 3
   },
   "file_extension": ".py",
   "mimetype": "text/x-python",
   "name": "python",
   "nbconvert_exporter": "python",
   "pygments_lexer": "ipython3",
   "version": "3.7.6"
  }
 },
 "nbformat": 4,
 "nbformat_minor": 4
}
