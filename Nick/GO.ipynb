{
 "cells": [
  {
   "cell_type": "code",
   "execution_count": 1,
   "metadata": {},
   "outputs": [],
   "source": [
    "import numpy as np\n",
    "import fastobo\n",
    "import wget"
   ]
  },
  {
   "cell_type": "code",
   "execution_count": 6,
   "metadata": {},
   "outputs": [
    {
     "data": {
      "text/plain": [
       "'../data/GO/go.obo'"
      ]
     },
     "execution_count": 6,
     "metadata": {},
     "output_type": "execute_result"
    }
   ],
   "source": [
    "wget.download(\"http://purl.obolibrary.org/obo/go/go.obo\", '../data/GO/go.obo')"
   ]
  },
  {
   "cell_type": "code",
   "execution_count": 7,
   "metadata": {},
   "outputs": [
    {
     "ename": "SyntaxError",
     "evalue": "expected QuotedString (go.obo, line 274469)",
     "output_type": "error",
     "traceback": [
      "Traceback \u001b[0;36m(most recent call last)\u001b[0m:\n",
      "  File \u001b[1;32m\"/global/homes/n/nswenson/.conda/envs/obo-env/lib/python3.7/site-packages/IPython/core/interactiveshell.py\"\u001b[0m, line \u001b[1;32m3331\u001b[0m, in \u001b[1;35mrun_code\u001b[0m\n    exec(code_obj, self.user_global_ns, self.user_ns)\n",
      "\u001b[0;36m  File \u001b[0;32m\"<ipython-input-7-a532f915868b>\"\u001b[0;36m, line \u001b[0;32m1\u001b[0;36m, in \u001b[0;35m<module>\u001b[0;36m\u001b[0m\n\u001b[0;31m    obodoc = fastobo.load('../data/GO/go.obo')\u001b[0m\n",
      "\u001b[0;36m  File \u001b[0;32m\"../data/GO/go.obo\"\u001b[0;36m, line \u001b[0;32m274469\u001b[0m\n\u001b[0;31m    intersection_of: negatively_regulates GO:0030099 ! myeloid cell differentiation\u001b[0m\n\u001b[0m                                                                                   \n^\u001b[0m\n\u001b[0;31mSyntaxError\u001b[0m\u001b[0;31m:\u001b[0m expected QuotedString\n"
     ]
    }
   ],
   "source": [
    "obodoc = fastobo.load('../data/GO/go.obo')"
   ]
  },
  {
   "cell_type": "code",
   "execution_count": 2,
   "metadata": {},
   "outputs": [],
   "source": [
    "import networkx\n",
    "import obonet"
   ]
  },
  {
   "cell_type": "code",
   "execution_count": 3,
   "metadata": {},
   "outputs": [],
   "source": [
    "url = \"http://purl.obolibrary.org/obo/go/go-basic.obo\"\n",
    "graph = obonet.read_obo(url)"
   ]
  },
  {
   "cell_type": "code",
   "execution_count": 4,
   "metadata": {},
   "outputs": [],
   "source": [
    "goid_to_category = {id_: data.get('namespace') for id_, data in graph.nodes(data=True)}"
   ]
  },
  {
   "cell_type": "code",
   "execution_count": 5,
   "metadata": {},
   "outputs": [
    {
     "name": "stdout",
     "output_type": "stream",
     "text": [
      "CPU times: user 13 µs, sys: 1e+03 ns, total: 14 µs\n",
      "Wall time: 17.9 µs\n"
     ]
    },
    {
     "data": {
      "text/plain": [
       "'cellular_component'"
      ]
     },
     "execution_count": 5,
     "metadata": {},
     "output_type": "execute_result"
    }
   ],
   "source": [
    "%%time\n",
    "goid_to_category['GO:0000331']"
   ]
  },
  {
   "cell_type": "code",
   "execution_count": 6,
   "metadata": {},
   "outputs": [],
   "source": [
    "import pandas as pd"
   ]
  },
  {
   "cell_type": "code",
   "execution_count": 16,
   "metadata": {},
   "outputs": [],
   "source": [
    "df = pd.read_csv('../data/GO/pdb_chain_go.csv', skiprows = 1, error_bad_lines=False, warn_bad_lines = False)"
   ]
  },
  {
   "cell_type": "code",
   "execution_count": 17,
   "metadata": {},
   "outputs": [
    {
     "data": {
      "text/html": [
       "<div>\n",
       "<style scoped>\n",
       "    .dataframe tbody tr th:only-of-type {\n",
       "        vertical-align: middle;\n",
       "    }\n",
       "\n",
       "    .dataframe tbody tr th {\n",
       "        vertical-align: top;\n",
       "    }\n",
       "\n",
       "    .dataframe thead th {\n",
       "        text-align: right;\n",
       "    }\n",
       "</style>\n",
       "<table border=\"1\" class=\"dataframe\">\n",
       "  <thead>\n",
       "    <tr style=\"text-align: right;\">\n",
       "      <th></th>\n",
       "      <th>PDB</th>\n",
       "      <th>CHAIN</th>\n",
       "      <th>SP_PRIMARY</th>\n",
       "      <th>WITH_STRING</th>\n",
       "      <th>EVIDENCE</th>\n",
       "      <th>GO_ID</th>\n",
       "    </tr>\n",
       "  </thead>\n",
       "  <tbody>\n",
       "    <tr>\n",
       "      <th>0</th>\n",
       "      <td>101m</td>\n",
       "      <td>A</td>\n",
       "      <td>IPRO</td>\n",
       "      <td>InterPro:IPR000971</td>\n",
       "      <td>IEA</td>\n",
       "      <td>GO:0020037</td>\n",
       "    </tr>\n",
       "    <tr>\n",
       "      <th>1</th>\n",
       "      <td>101m</td>\n",
       "      <td>A</td>\n",
       "      <td>IPRO</td>\n",
       "      <td>InterPro:IPR002335</td>\n",
       "      <td>IEA</td>\n",
       "      <td>GO:0015671</td>\n",
       "    </tr>\n",
       "    <tr>\n",
       "      <th>2</th>\n",
       "      <td>101m</td>\n",
       "      <td>A</td>\n",
       "      <td>IPRO</td>\n",
       "      <td>InterPro:IPR002335</td>\n",
       "      <td>IEA</td>\n",
       "      <td>GO:0019825</td>\n",
       "    </tr>\n",
       "    <tr>\n",
       "      <th>3</th>\n",
       "      <td>101m</td>\n",
       "      <td>A</td>\n",
       "      <td>IPRO</td>\n",
       "      <td>InterPro:IPR002335</td>\n",
       "      <td>IEA</td>\n",
       "      <td>GO:0020037</td>\n",
       "    </tr>\n",
       "    <tr>\n",
       "      <th>4</th>\n",
       "      <td>101m</td>\n",
       "      <td>A</td>\n",
       "      <td>IPRO</td>\n",
       "      <td>InterPro:IPR012292</td>\n",
       "      <td>IEA</td>\n",
       "      <td>GO:0019825</td>\n",
       "    </tr>\n",
       "  </tbody>\n",
       "</table>\n",
       "</div>"
      ],
      "text/plain": [
       "    PDB CHAIN SP_PRIMARY         WITH_STRING EVIDENCE       GO_ID\n",
       "0  101m     A       IPRO  InterPro:IPR000971      IEA  GO:0020037\n",
       "1  101m     A       IPRO  InterPro:IPR002335      IEA  GO:0015671\n",
       "2  101m     A       IPRO  InterPro:IPR002335      IEA  GO:0019825\n",
       "3  101m     A       IPRO  InterPro:IPR002335      IEA  GO:0020037\n",
       "4  101m     A       IPRO  InterPro:IPR012292      IEA  GO:0019825"
      ]
     },
     "execution_count": 17,
     "metadata": {},
     "output_type": "execute_result"
    }
   ],
   "source": [
    "df.head()"
   ]
  },
  {
   "cell_type": "code",
   "execution_count": 20,
   "metadata": {},
   "outputs": [
    {
     "name": "stdout",
     "output_type": "stream",
     "text": [
      "CPU times: user 382 ms, sys: 330 ms, total: 712 ms\n",
      "Wall time: 710 ms\n"
     ]
    },
    {
     "data": {
      "text/plain": [
       "{'101m': {'GO:0005344',\n",
       "  'GO:0015671',\n",
       "  'GO:0019825',\n",
       "  'GO:0020037',\n",
       "  'GO:0046872'},\n",
       " '102l': {'GO:0003796',\n",
       "  'GO:0009253',\n",
       "  'GO:0016998',\n",
       "  'GO:0019076',\n",
       "  'GO:0019835'},\n",
       " '102m': {'GO:0005344',\n",
       "  'GO:0015671',\n",
       "  'GO:0019825',\n",
       "  'GO:0020037',\n",
       "  'GO:0046872'},\n",
       " '103l': {'GO:0003796',\n",
       "  'GO:0009253',\n",
       "  'GO:0016998',\n",
       "  'GO:0019076',\n",
       "  'GO:0019835'},\n",
       " '103m': {'GO:0005344',\n",
       "  'GO:0015671',\n",
       "  'GO:0019825',\n",
       "  'GO:0020037',\n",
       "  'GO:0046872'},\n",
       " '104l': {'GO:0003796',\n",
       "  'GO:0009253',\n",
       "  'GO:0016998',\n",
       "  'GO:0019076',\n",
       "  'GO:0019835'},\n",
       " '104m': {'GO:0005344',\n",
       "  'GO:0015671',\n",
       "  'GO:0019825',\n",
       "  'GO:0020037',\n",
       "  'GO:0046872'},\n",
       " '105m': {'GO:0005344',\n",
       "  'GO:0015671',\n",
       "  'GO:0019825',\n",
       "  'GO:0020037',\n",
       "  'GO:0046872'},\n",
       " '106m': {'GO:0005344',\n",
       "  'GO:0015671',\n",
       "  'GO:0019825',\n",
       "  'GO:0020037',\n",
       "  'GO:0046872'},\n",
       " '107l': {'GO:0003796',\n",
       "  'GO:0009253',\n",
       "  'GO:0016998',\n",
       "  'GO:0019076',\n",
       "  'GO:0019835'}}"
      ]
     },
     "execution_count": 20,
     "metadata": {},
     "output_type": "execute_result"
    }
   ],
   "source": [
    "%%time\n",
    "df = df[['PDB', 'GO_ID']]\n",
    "pdb_to_go = {}\n",
    "for key, value in df.values[:100]:\n",
    "    go_list = pdb_to_go.get(key, set())\n",
    "    go_list.add(value)\n",
    "    pdb_to_go[key] = go_list\n",
    "    \n",
    "pdb_to_go"
   ]
  },
  {
   "cell_type": "code",
   "execution_count": 103,
   "metadata": {},
   "outputs": [
    {
     "name": "stdout",
     "output_type": "stream",
     "text": [
      "CPU times: user 531 ms, sys: 11.8 ms, total: 543 ms\n",
      "Wall time: 539 ms\n"
     ]
    },
    {
     "data": {
      "text/plain": [
       "array(['GO:0005344', 'GO:0015671', 'GO:0019825', 'GO:0020037',\n",
       "       'GO:0046872'], dtype=object)"
      ]
     },
     "execution_count": 103,
     "metadata": {},
     "output_type": "execute_result"
    }
   ],
   "source": [
    "%%time\n",
    "ids = np.unique(pdb_to_go[pdb_to_go[:, 0] == '101m', 1])\n",
    "ids"
   ]
  },
  {
   "cell_type": "code",
   "execution_count": 104,
   "metadata": {},
   "outputs": [
    {
     "ename": "ValueError",
     "evalue": "too many values to unpack (expected 2)",
     "output_type": "error",
     "traceback": [
      "\u001b[0;31m---------------------------------------------------------------------------\u001b[0m",
      "\u001b[0;31mValueError\u001b[0m                                Traceback (most recent call last)",
      "\u001b[0;32m<ipython-input-104-69f6940683ae>\u001b[0m in \u001b[0;36m<module>\u001b[0;34m\u001b[0m\n\u001b[1;32m      1\u001b[0m \u001b[0mpdb_go_dict\u001b[0m \u001b[0;34m=\u001b[0m \u001b[0;34m{\u001b[0m\u001b[0;34m}\u001b[0m\u001b[0;34m\u001b[0m\u001b[0;34m\u001b[0m\u001b[0m\n\u001b[0;32m----> 2\u001b[0;31m \u001b[0;32mfor\u001b[0m \u001b[0mpdb\u001b[0m\u001b[0;34m,\u001b[0m \u001b[0mgo\u001b[0m \u001b[0;32min\u001b[0m \u001b[0mpdb_to_go\u001b[0m\u001b[0;34m[\u001b[0m\u001b[0;36m0\u001b[0m\u001b[0;34m]\u001b[0m\u001b[0;34m:\u001b[0m\u001b[0;34m\u001b[0m\u001b[0;34m\u001b[0m\u001b[0m\n\u001b[0m\u001b[1;32m      3\u001b[0m     \u001b[0mpdb_go_dict\u001b[0m\u001b[0;34m[\u001b[0m\u001b[0mpdb\u001b[0m\u001b[0;34m]\u001b[0m \u001b[0;34m=\u001b[0m \u001b[0mpdb_go_dict\u001b[0m\u001b[0;34m.\u001b[0m\u001b[0mget\u001b[0m\u001b[0;34m(\u001b[0m\u001b[0mpdb\u001b[0m\u001b[0;34m,\u001b[0m \u001b[0mset\u001b[0m\u001b[0;34m(\u001b[0m\u001b[0;34m)\u001b[0m\u001b[0;34m)\u001b[0m\u001b[0;34m.\u001b[0m\u001b[0madd\u001b[0m\u001b[0;34m(\u001b[0m\u001b[0mgo\u001b[0m\u001b[0;34m)\u001b[0m\u001b[0;34m\u001b[0m\u001b[0;34m\u001b[0m\u001b[0m\n\u001b[1;32m      4\u001b[0m \u001b[0mpdb_go_dict\u001b[0m\u001b[0;34m\u001b[0m\u001b[0;34m\u001b[0m\u001b[0m\n",
      "\u001b[0;31mValueError\u001b[0m: too many values to unpack (expected 2)"
     ]
    }
   ],
   "source": [
    "pdb_go_dict = {}\n",
    "for pdb, go in pdb_to_go[0]:\n",
    "    pdb_go_dict[pdb] = pdb_go_dict.get(pdb, set()).add(go)\n",
    "pdb_go_dict"
   ]
  },
  {
   "cell_type": "code",
   "execution_count": 53,
   "metadata": {},
   "outputs": [
    {
     "name": "stdout",
     "output_type": "stream",
     "text": [
      "GO:0020037 molecular_function\n",
      "GO:0015671 biological_process\n",
      "GO:0019825 molecular_function\n",
      "GO:0020037 molecular_function\n",
      "GO:0019825 molecular_function\n",
      "GO:0020037 molecular_function\n",
      "GO:0046872 molecular_function\n",
      "GO:0005344 molecular_function\n",
      "GO:0015671 biological_process\n"
     ]
    }
   ],
   "source": [
    "\n",
    "for go_id in ids:\n",
    "    print(go_id, goid_to_category[go_id])"
   ]
  },
  {
   "cell_type": "code",
   "execution_count": 56,
   "metadata": {},
   "outputs": [],
   "source": [
    "import os\n",
    "import scipy.sparse"
   ]
  },
  {
   "cell_type": "code",
   "execution_count": 79,
   "metadata": {},
   "outputs": [
    {
     "name": "stdout",
     "output_type": "stream",
     "text": [
      "[matrix([[0, 1, 1, ..., 0, 0, 0],\n",
      "        [1, 0, 1, ..., 0, 0, 0],\n",
      "        [1, 1, 0, ..., 0, 0, 0],\n",
      "        ...,\n",
      "        [0, 0, 0, ..., 0, 1, 1],\n",
      "        [0, 0, 0, ..., 1, 0, 1],\n",
      "        [0, 0, 0, ..., 1, 1, 0]]), matrix([[0, 1, 1, ..., 0, 0, 0],\n",
      "        [1, 0, 1, ..., 0, 0, 0],\n",
      "        [1, 1, 0, ..., 0, 0, 0],\n",
      "        ...,\n",
      "        [0, 0, 0, ..., 0, 0, 0],\n",
      "        [0, 0, 0, ..., 0, 0, 0],\n",
      "        [0, 0, 0, ..., 0, 0, 0]])] [['GO:0003676', 'GO:0004523', 'GO:0003964'], ['GO:0003677', 'GO:0003707', 'GO:0004879']]\n",
      "[matrix([[0, 1, 1, ..., 0, 0, 0],\n",
      "        [1, 0, 1, ..., 0, 0, 0],\n",
      "        [1, 1, 0, ..., 0, 0, 0],\n",
      "        ...,\n",
      "        [0, 0, 0, ..., 0, 0, 0],\n",
      "        [0, 0, 0, ..., 0, 0, 0],\n",
      "        [0, 0, 0, ..., 0, 0, 0]])] [['GO:0005634']]\n",
      "[matrix([[0, 1, 1, ..., 0, 0, 0],\n",
      "        [1, 0, 1, ..., 0, 0, 0],\n",
      "        [1, 1, 0, ..., 0, 0, 0],\n",
      "        ...,\n",
      "        [0, 0, 0, ..., 0, 1, 1],\n",
      "        [0, 0, 0, ..., 1, 0, 1],\n",
      "        [0, 0, 0, ..., 1, 1, 0]]), matrix([[0, 1, 1, ..., 0, 0, 0],\n",
      "        [1, 0, 1, ..., 0, 0, 0],\n",
      "        [1, 1, 0, ..., 0, 0, 0],\n",
      "        ...,\n",
      "        [0, 0, 0, ..., 0, 0, 0],\n",
      "        [0, 0, 0, ..., 0, 0, 0],\n",
      "        [0, 0, 0, ..., 0, 0, 0]])] [['GO:0006278'], ['GO:0006355']]\n",
      "CPU times: user 2.76 s, sys: 0 ns, total: 2.76 s\n",
      "Wall time: 2.83 s\n"
     ]
    }
   ],
   "source": [
    "%%time\n",
    "X_mf = []\n",
    "y_mf = []\n",
    "X_cc = []\n",
    "y_cc = []\n",
    "X_bp = []\n",
    "y_bp = []\n",
    "for file in os.listdir('../data/contact_maps/sparse_matrices')[:2]:\n",
    "    if file.endswith('.npz'):\n",
    "        pdb_code = file.split('.')[0]\n",
    "        go_ids = pdb_to_go[pdb_to_go['PDB'] == pdb_code.lower()]['GO_ID'].unique()\n",
    "        X_temp = scipy.sparse.load_npz('../data/contact_maps/sparse_matrices/' + file).todense()\n",
    "        y_mf_temp = []\n",
    "        y_cc_temp = []\n",
    "        y_bp_temp = []\n",
    "        for go_id in go_ids:\n",
    "            category = goid_to_category[go_id]\n",
    "            if category == 'molecular_function':\n",
    "                y_mf_temp.append(go_id)\n",
    "            if category == 'cellular_component':\n",
    "                y_cc_temp.append(go_id)\n",
    "            if category == 'biological_process':\n",
    "                y_bp_temp.append(go_id)\n",
    "        if len(y_mf_temp) > 0:\n",
    "            X_mf.append(X_temp)\n",
    "            y_mf.append(y_mf_temp)\n",
    "        if len(y_cc_temp) > 0:\n",
    "            X_cc.append(X_temp)\n",
    "            y_cc.append(y_cc_temp)\n",
    "        if len(y_bp_temp) > 0:\n",
    "            X_bp.append(X_temp)\n",
    "            y_bp.append(y_bp_temp)\n",
    "\n",
    "print(X_mf, y_mf)\n",
    "print(X_cc, y_cc)\n",
    "print(X_bp, y_bp)"
   ]
  },
  {
   "cell_type": "code",
   "execution_count": null,
   "metadata": {},
   "outputs": [],
   "source": []
  }
 ],
 "metadata": {
  "kernelspec": {
   "display_name": "Python [conda env:.conda-obo-env]",
   "language": "python",
   "name": "conda-env-.conda-obo-env-py"
  },
  "language_info": {
   "codemirror_mode": {
    "name": "ipython",
    "version": 3
   },
   "file_extension": ".py",
   "mimetype": "text/x-python",
   "name": "python",
   "nbconvert_exporter": "python",
   "pygments_lexer": "ipython3",
   "version": "3.7.6"
  }
 },
 "nbformat": 4,
 "nbformat_minor": 4
}
