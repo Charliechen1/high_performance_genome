{
 "cells": [
  {
   "cell_type": "markdown",
   "metadata": {},
   "source": [
    "### 1.Data Preprocessing"
   ]
  },
  {
   "cell_type": "code",
   "execution_count": 1,
   "metadata": {},
   "outputs": [],
   "source": [
    "import pandas as pd\n",
    "import numpy as np\n",
    "import torch\n",
    "import os\n",
    "import configparser\n",
    "import json"
   ]
  },
  {
   "cell_type": "code",
   "execution_count": 2,
   "metadata": {},
   "outputs": [
    {
     "data": {
      "text/plain": [
       "['../config/proprocess.conf']"
      ]
     },
     "execution_count": 2,
     "metadata": {},
     "output_type": "execute_result"
    }
   ],
   "source": [
    "config_path = \"../config/main.conf\"\n",
    "conf = configparser.ConfigParser()\n",
    "conf.read(config_path)\n",
    "\n",
    "prepro_conf = configparser.ConfigParser()\n",
    "prepro_conf.read(conf['path']['preprocessing'])"
   ]
  },
  {
   "cell_type": "code",
   "execution_count": 3,
   "metadata": {},
   "outputs": [
    {
     "name": "stdout",
     "output_type": "stream",
     "text": [
      "Available dataset partitions:  ['dev', '.ipynb_checkpoints', 'train', 'preprocess', 'test', 'download.sh']\n"
     ]
    }
   ],
   "source": [
    "data_partitions_dirpath = conf['path']['data_part']\n",
    "print('Available dataset partitions: ', os.listdir(data_partitions_dirpath))"
   ]
  },
  {
   "cell_type": "code",
   "execution_count": 4,
   "metadata": {},
   "outputs": [
    {
     "name": "stdout",
     "output_type": "stream",
     "text": [
      "Dataset partition \"test\" has 126171 sequences\n",
      "Dataset partition \"dev\" has 126171 sequences\n",
      "Dataset partition \"train\" has 1086741 sequences\n",
      "CPU times: user 6.85 s, sys: 1.16 s, total: 8.01 s\n",
      "Wall time: 8.19 s\n"
     ]
    }
   ],
   "source": [
    "%%time\n",
    "def read_all_shards(partition='dev', data_dir=data_partitions_dirpath):\n",
    "    shards = []\n",
    "    for fn in os.listdir(os.path.join(data_dir, partition)):\n",
    "        with open(os.path.join(data_dir, partition, fn)) as f:\n",
    "            shards.append(pd.read_csv(f, index_col=None))\n",
    "    return pd.concat(shards)\n",
    "\n",
    "test = read_all_shards('test')\n",
    "dev = read_all_shards('dev')\n",
    "train = read_all_shards('train')\n",
    "\n",
    "partitions = {'test': test, 'dev': dev, 'train': train}\n",
    "for name, df in partitions.items():\n",
    "    print('Dataset partition \"%s\" has %d sequences' % (name, len(df)))"
   ]
  },
  {
   "cell_type": "code",
   "execution_count": 5,
   "metadata": {},
   "outputs": [
    {
     "data": {
      "text/html": [
       "<div>\n",
       "<style scoped>\n",
       "    .dataframe tbody tr th:only-of-type {\n",
       "        vertical-align: middle;\n",
       "    }\n",
       "\n",
       "    .dataframe tbody tr th {\n",
       "        vertical-align: top;\n",
       "    }\n",
       "\n",
       "    .dataframe thead th {\n",
       "        text-align: right;\n",
       "    }\n",
       "</style>\n",
       "<table border=\"1\" class=\"dataframe\">\n",
       "  <thead>\n",
       "    <tr style=\"text-align: right;\">\n",
       "      <th></th>\n",
       "      <th>family_id</th>\n",
       "      <th>sequence_name</th>\n",
       "      <th>family_accession</th>\n",
       "      <th>aligned_sequence</th>\n",
       "      <th>sequence</th>\n",
       "    </tr>\n",
       "  </thead>\n",
       "  <tbody>\n",
       "    <tr>\n",
       "      <th>0</th>\n",
       "      <td>DUF4194</td>\n",
       "      <td>C7MGY1_BRAFD/37-194</td>\n",
       "      <td>PF13835.6</td>\n",
       "      <td>VHLLQGPFLDGRRD...GA.......RYAQLL..RDRTAIEARLAD...</td>\n",
       "      <td>VHLLQGPFLDGRRDGARYAQLLRDRTAIEARLADLFLELIVDDDAQ...</td>\n",
       "    </tr>\n",
       "    <tr>\n",
       "      <th>1</th>\n",
       "      <td>Clathrin_propel</td>\n",
       "      <td>Q7SHV2_NEUCR/257-292</td>\n",
       "      <td>PF01394.20</td>\n",
       "      <td>PPEA.SNDFPVALQVSQKYGIIYL.......ITKYGFIHLYDLE</td>\n",
       "      <td>PPEASNDFPVALQVSQKYGIIYLITKYGFIHLYDLE</td>\n",
       "    </tr>\n",
       "    <tr>\n",
       "      <th>2</th>\n",
       "      <td>Leu_Phe_trans</td>\n",
       "      <td>K7RWT2_ACIA4/30-205</td>\n",
       "      <td>PF03588.14</td>\n",
       "      <td>...VLAALHEGVFPMPIDGDEVPEPLR.GGMGW.....WSPQL......</td>\n",
       "      <td>VLAALHEGVFPMPIDGDEVPEPLRGGMGWWSPQLRARMPLERIRVP...</td>\n",
       "    </tr>\n",
       "    <tr>\n",
       "      <th>3</th>\n",
       "      <td>tRNA_anti-codon</td>\n",
       "      <td>EX7L_BACSU/29-104</td>\n",
       "      <td>PF01336.25</td>\n",
       "      <td>IWIK.GELSNVK...............IHT.RGHIYFT.....LKD...</td>\n",
       "      <td>IWIKGELSNVKIHTRGHIYFTLKDENARMQSVMFARQSERLPFKPE...</td>\n",
       "    </tr>\n",
       "    <tr>\n",
       "      <th>4</th>\n",
       "      <td>CSS-motif</td>\n",
       "      <td>PDED_ECOLI/42-242</td>\n",
       "      <td>PF12792.7</td>\n",
       "      <td>NQQRVVQFANHAVE.ELDKVLLPLQA.G...SEVLLP.LIGLPCS....</td>\n",
       "      <td>NQQRVVQFANHAVEELDKVLLPLQAGSEVLLPLIGLPCSVAHLPLR...</td>\n",
       "    </tr>\n",
       "  </tbody>\n",
       "</table>\n",
       "</div>"
      ],
      "text/plain": [
       "         family_id         sequence_name family_accession  \\\n",
       "0          DUF4194   C7MGY1_BRAFD/37-194        PF13835.6   \n",
       "1  Clathrin_propel  Q7SHV2_NEUCR/257-292       PF01394.20   \n",
       "2    Leu_Phe_trans   K7RWT2_ACIA4/30-205       PF03588.14   \n",
       "3  tRNA_anti-codon     EX7L_BACSU/29-104       PF01336.25   \n",
       "4        CSS-motif     PDED_ECOLI/42-242        PF12792.7   \n",
       "\n",
       "                                    aligned_sequence  \\\n",
       "0  VHLLQGPFLDGRRD...GA.......RYAQLL..RDRTAIEARLAD...   \n",
       "1       PPEA.SNDFPVALQVSQKYGIIYL.......ITKYGFIHLYDLE   \n",
       "2  ...VLAALHEGVFPMPIDGDEVPEPLR.GGMGW.....WSPQL......   \n",
       "3  IWIK.GELSNVK...............IHT.RGHIYFT.....LKD...   \n",
       "4  NQQRVVQFANHAVE.ELDKVLLPLQA.G...SEVLLP.LIGLPCS....   \n",
       "\n",
       "                                            sequence  \n",
       "0  VHLLQGPFLDGRRDGARYAQLLRDRTAIEARLADLFLELIVDDDAQ...  \n",
       "1               PPEASNDFPVALQVSQKYGIIYLITKYGFIHLYDLE  \n",
       "2  VLAALHEGVFPMPIDGDEVPEPLRGGMGWWSPQLRARMPLERIRVP...  \n",
       "3  IWIKGELSNVKIHTRGHIYFTLKDENARMQSVMFARQSERLPFKPE...  \n",
       "4  NQQRVVQFANHAVEELDKVLLPLQAGSEVLLPLIGLPCSVAHLPLR...  "
      ]
     },
     "execution_count": 5,
     "metadata": {},
     "output_type": "execute_result"
    }
   ],
   "source": [
    "test.head()"
   ]
  },
  {
   "cell_type": "code",
   "execution_count": 6,
   "metadata": {},
   "outputs": [
    {
     "data": {
      "text/html": [
       "<div>\n",
       "<style scoped>\n",
       "    .dataframe tbody tr th:only-of-type {\n",
       "        vertical-align: middle;\n",
       "    }\n",
       "\n",
       "    .dataframe tbody tr th {\n",
       "        vertical-align: top;\n",
       "    }\n",
       "\n",
       "    .dataframe thead th {\n",
       "        text-align: right;\n",
       "    }\n",
       "</style>\n",
       "<table border=\"1\" class=\"dataframe\">\n",
       "  <thead>\n",
       "    <tr style=\"text-align: right;\">\n",
       "      <th></th>\n",
       "      <th>family_id</th>\n",
       "      <th>sequence_name</th>\n",
       "      <th>family_accession</th>\n",
       "      <th>aligned_sequence</th>\n",
       "      <th>sequence</th>\n",
       "    </tr>\n",
       "  </thead>\n",
       "  <tbody>\n",
       "    <tr>\n",
       "      <th>0</th>\n",
       "      <td>EKR</td>\n",
       "      <td>R6QAS0_9FIRM/627-685</td>\n",
       "      <td>PF10371.9</td>\n",
       "      <td>.EEKKLVIPTNRPEMKDFVKNILHPIDHLHGDDLPVSKFV..DRAD...</td>\n",
       "      <td>EEKKLVIPTNRPEMKDFVKNILHPIDHLHGDDLPVSKFVDRADGVY...</td>\n",
       "    </tr>\n",
       "    <tr>\n",
       "      <th>1</th>\n",
       "      <td>DUF4042</td>\n",
       "      <td>B3MYB3_DROAN/365-542</td>\n",
       "      <td>PF13251.6</td>\n",
       "      <td>KVRISALHLLGSLAKNLPRRFLYGYWHILFPSG.......EHGATN...</td>\n",
       "      <td>KVRISALHLLGSLAKNLPRRFLYGYWHILFPSGEHGATNSHLLLLG...</td>\n",
       "    </tr>\n",
       "    <tr>\n",
       "      <th>2</th>\n",
       "      <td>Reg_prop</td>\n",
       "      <td>Q8EJN6_SHEON/296-320</td>\n",
       "      <td>PF07494.11</td>\n",
       "      <td>AQANMETLK..AILF...DKSG.LMWVGGSG</td>\n",
       "      <td>AQANMETLKAILFDKSGLMWVGGSG</td>\n",
       "    </tr>\n",
       "    <tr>\n",
       "      <th>3</th>\n",
       "      <td>DUF3880</td>\n",
       "      <td>M1WYU2_PSEP2/257-334</td>\n",
       "      <td>PF12996.7</td>\n",
       "      <td>WFVDNPHLILHHYTHPGTDNTAIFTYDAGNL.EPLRRKGFANTY.Y...</td>\n",
       "      <td>WFVDNPHLILHHYTHPGTDNTAIFTYDAGNLEPLRRKGFANTYYLP...</td>\n",
       "    </tr>\n",
       "    <tr>\n",
       "      <th>4</th>\n",
       "      <td>UPRTase</td>\n",
       "      <td>B6GYG1_PENRW/502-699</td>\n",
       "      <td>PF14681.6</td>\n",
       "      <td>AT.DRPAAKLLMTPMRDASI.SGSALRKVHGRVGFYLATELCT.QI...</td>\n",
       "      <td>ATDRPAAKLLMTPMRDASISGSALRKVHGRVGFYLATELCTQIMGL...</td>\n",
       "    </tr>\n",
       "  </tbody>\n",
       "</table>\n",
       "</div>"
      ],
      "text/plain": [
       "  family_id         sequence_name family_accession  \\\n",
       "0       EKR  R6QAS0_9FIRM/627-685        PF10371.9   \n",
       "1   DUF4042  B3MYB3_DROAN/365-542        PF13251.6   \n",
       "2  Reg_prop  Q8EJN6_SHEON/296-320       PF07494.11   \n",
       "3   DUF3880  M1WYU2_PSEP2/257-334        PF12996.7   \n",
       "4   UPRTase  B6GYG1_PENRW/502-699        PF14681.6   \n",
       "\n",
       "                                    aligned_sequence  \\\n",
       "0  .EEKKLVIPTNRPEMKDFVKNILHPIDHLHGDDLPVSKFV..DRAD...   \n",
       "1  KVRISALHLLGSLAKNLPRRFLYGYWHILFPSG.......EHGATN...   \n",
       "2                    AQANMETLK..AILF...DKSG.LMWVGGSG   \n",
       "3  WFVDNPHLILHHYTHPGTDNTAIFTYDAGNL.EPLRRKGFANTY.Y...   \n",
       "4  AT.DRPAAKLLMTPMRDASI.SGSALRKVHGRVGFYLATELCT.QI...   \n",
       "\n",
       "                                            sequence  \n",
       "0  EEKKLVIPTNRPEMKDFVKNILHPIDHLHGDDLPVSKFVDRADGVY...  \n",
       "1  KVRISALHLLGSLAKNLPRRFLYGYWHILFPSGEHGATNSHLLLLG...  \n",
       "2                          AQANMETLKAILFDKSGLMWVGGSG  \n",
       "3  WFVDNPHLILHHYTHPGTDNTAIFTYDAGNLEPLRRKGFANTYYLP...  \n",
       "4  ATDRPAAKLLMTPMRDASISGSALRKVHGRVGFYLATELCTQIMGL...  "
      ]
     },
     "execution_count": 6,
     "metadata": {},
     "output_type": "execute_result"
    }
   ],
   "source": [
    "train.head()"
   ]
  },
  {
   "cell_type": "markdown",
   "metadata": {},
   "source": [
    "#### Prepare for train and test data"
   ]
  },
  {
   "cell_type": "code",
   "execution_count": 7,
   "metadata": {},
   "outputs": [
    {
     "data": {
      "text/plain": [
       "{'.': 0,\n",
       " 'M': 1,\n",
       " 'H': 2,\n",
       " 'B': 3,\n",
       " 'W': 4,\n",
       " 'R': 5,\n",
       " 'U': 6,\n",
       " 'I': 7,\n",
       " 'O': 8,\n",
       " 'L': 9,\n",
       " 'T': 10,\n",
       " 'D': 11,\n",
       " 'F': 12,\n",
       " 'X': 13,\n",
       " 'Q': 14,\n",
       " 'K': 15,\n",
       " 'N': 16,\n",
       " 'A': 17,\n",
       " 'E': 18,\n",
       " 'Y': 19,\n",
       " 'V': 20,\n",
       " 'Z': 21,\n",
       " 'S': 22,\n",
       " 'P': 23,\n",
       " 'C': 24,\n",
       " 'G': 25}"
      ]
     },
     "execution_count": 7,
     "metadata": {},
     "output_type": "execute_result"
    }
   ],
   "source": [
    "vocab = None\n",
    "vocab_path = conf['path']['vocab']\n",
    "with open(vocab_path, 'r') as of:\n",
    "    vocab = json.load(of)\n",
    "vocab"
   ]
  },
  {
   "cell_type": "markdown",
   "metadata": {},
   "source": [
    "#### Prepare for X"
   ]
  },
  {
   "cell_type": "code",
   "execution_count": 8,
   "metadata": {},
   "outputs": [],
   "source": [
    "from scipy import sparse\n",
    "import json"
   ]
  },
  {
   "cell_type": "code",
   "execution_count": 9,
   "metadata": {},
   "outputs": [],
   "source": [
    "def one_hot_encoding(X, vocab, max_len):\n",
    "    row_index = np.arange((max_len))\n",
    "    num = 0\n",
    "    X_res = None\n",
    "    for x in X:\n",
    "        num += 1\n",
    "        if (num % 10000 == 0):\n",
    "            print(\"No %d in X part\" % num)\n",
    "        col_index = [vocab.get(ch, 0) for ch in x]\n",
    "        xlen = len(col_index)\n",
    "        data = np.array([1] * min(max_len, xlen) + [0] * max(max_len - xlen, 0))\n",
    "        # chop the indices\n",
    "        col_index = col_index[:max_len] + [0] * max(max_len - xlen, 0)\n",
    "        new_sparse = sparse.csc_matrix((data, (row_index, col_index)), shape=(max_len, 26))\n",
    "        if X_res is None:\n",
    "            X_res = new_sparse\n",
    "        else:\n",
    "            X_res = sparse.vstack((X_res, new_sparse))\n",
    "    return X_res\n",
    "\n",
    "def parse_and_save_dense_mat(X, path, to_sparse=True):\n",
    "    if to_sparse:\n",
    "        sparse.save_npz(path, X)\n",
    "    else:\n",
    "        with open(path, 'w') as of:\n",
    "            for x in X:\n",
    "                x_ = x.toarray().tolist()\n",
    "                of.write(json.dumps(x_) + '\\n')"
   ]
  },
  {
   "cell_type": "code",
   "execution_count": 10,
   "metadata": {},
   "outputs": [],
   "source": [
    "def make_one_hot(Xs, vocab, max_len):\n",
    "    n_vocab = len(vocab)\n",
    "    tensor = torch.zeros(len(Xs), max_len, n_vocab)\n",
    "    for idx, X in enumerate(Xs):\n",
    "        for chidx, ch in enumerate(X[:max_len]):\n",
    "            tensor[idx][chidx][vocab[ch]] = 1\n",
    "    return tensor"
   ]
  },
  {
   "cell_type": "code",
   "execution_count": 33,
   "metadata": {},
   "outputs": [
    {
     "name": "stdout",
     "output_type": "stream",
     "text": [
      "359\n",
      "(18507,)\n",
      "CPU times: user 259 ms, sys: 8.1 ms, total: 267 ms\n",
      "Wall time: 265 ms\n"
     ]
    }
   ],
   "source": [
    "%%time\n",
    "fams = np.array(train[\"family_id\"].value_counts().index)[::20]\n",
    "partition = train[train[\"family_id\"].isin(train_fams)]\n",
    "max_len = int(prepro_conf['OneHot']['MaxLen'])\n",
    "X = partition['aligned_sequence'].values\n",
    "y = partition['family_id'].values\n",
    "from sklearn.model_selection import train_test_split\n",
    "X_train_raw, X_test_raw, y_train_raw, y_test_raw = train_test_split(X, y, test_size=0.25, random_state=41)\n",
    "all_fam = {fam: idx for idx, fam in enumerate(list(set(y)))}"
   ]
  },
  {
   "cell_type": "code",
   "execution_count": 34,
   "metadata": {},
   "outputs": [
    {
     "name": "stdout",
     "output_type": "stream",
     "text": [
      "CPU times: user 1min 20s, sys: 1.71 s, total: 1min 22s\n",
      "Wall time: 1min 21s\n"
     ]
    }
   ],
   "source": [
    "%%time\n",
    "max_len = 3000\n",
    "X_train = make_one_hot(X_train_raw, vocab, max_len)\n",
    "X_test = make_one_hot(X_test_raw, vocab, max_len)\n",
    "#X_train = one_hot_encoding(X_train_raw, vocab, max_len)\n",
    "#X_test = one_hot_encoding(X_test_raw, vocab, max_len)"
   ]
  },
  {
   "cell_type": "code",
   "execution_count": 35,
   "metadata": {},
   "outputs": [
    {
     "name": "stdout",
     "output_type": "stream",
     "text": [
      "CPU times: user 611 ms, sys: 27.9 ms, total: 639 ms\n",
      "Wall time: 350 ms\n"
     ]
    }
   ],
   "source": [
    "%%time\n",
    "max_len = 1\n",
    "y_train = make_one_hot(np.expand_dims(y_train_raw, axis=1), all_fam, max_len)\n",
    "y_test = make_one_hot(np.expand_dims(y_test_raw, axis=1), all_fam, max_len)"
   ]
  },
  {
   "cell_type": "code",
   "execution_count": 37,
   "metadata": {},
   "outputs": [
    {
     "name": "stdout",
     "output_type": "stream",
     "text": [
      "CPU times: user 223 ms, sys: 6.55 s, total: 6.77 s\n",
      "Wall time: 32.4 s\n"
     ]
    }
   ],
   "source": [
    "%%time\n",
    "path = {'x_train': '../data/preprocess/x_train.pt',\n",
    "       'x_test': '../data/preprocess/x_test.pt',\n",
    "       'y_train': '../data/preprocess/y_train.pt',\n",
    "       'y_test': '../data/preprocess/y_test.pt'}\n",
    "\n",
    "torch.save(X_train, path['x_train'])\n",
    "torch.save(X_test, path['x_test'])\n",
    "torch.save(X_train, path['y_train'])\n",
    "torch.save(X_train, path['y_test'])"
   ]
  },
  {
   "cell_type": "code",
   "execution_count": null,
   "metadata": {},
   "outputs": [],
   "source": []
  }
 ],
 "metadata": {
  "kernelspec": {
   "display_name": "pytorch-v1.2.0-gpu [conda env:root] *",
   "language": "python",
   "name": "conda-root-pytorch-v1.2.0-gpu"
  },
  "language_info": {
   "codemirror_mode": {
    "name": "ipython",
    "version": 3
   },
   "file_extension": ".py",
   "mimetype": "text/x-python",
   "name": "python",
   "nbconvert_exporter": "python",
   "pygments_lexer": "ipython3",
   "version": "3.6.9"
  }
 },
 "nbformat": 4,
 "nbformat_minor": 4
}
