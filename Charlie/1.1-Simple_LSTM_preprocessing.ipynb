{
 "cells": [
  {
   "cell_type": "markdown",
   "metadata": {},
   "source": [
    "### 1.Data Preprocessing"
   ]
  },
  {
   "cell_type": "code",
   "execution_count": 9,
   "metadata": {},
   "outputs": [],
   "source": [
    "import pandas as pd\n",
    "import numpy as np\n",
    "import tensorflow as tf\n",
    "import os"
   ]
  },
  {
   "cell_type": "code",
   "execution_count": 10,
   "metadata": {},
   "outputs": [
    {
     "name": "stdout",
     "output_type": "stream",
     "text": [
      "Available dataset partitions:  ['dev', 'download.sh', 'test', 'train']\n"
     ]
    }
   ],
   "source": [
    "data_partitions_dirpath = '../data'\n",
    "print('Available dataset partitions: ', os.listdir(data_partitions_dirpath))"
   ]
  },
  {
   "cell_type": "code",
   "execution_count": 11,
   "metadata": {},
   "outputs": [
    {
     "name": "stdout",
     "output_type": "stream",
     "text": [
      "Dataset partition \"test\" has 126171 sequences\n",
      "Dataset partition \"dev\" has 126171 sequences\n",
      "Dataset partition \"train\" has 1086741 sequences\n"
     ]
    }
   ],
   "source": [
    "def read_all_shards(partition='dev', data_dir=data_partitions_dirpath):\n",
    "    shards = []\n",
    "    for fn in os.listdir(os.path.join(data_dir, partition)):\n",
    "        with open(os.path.join(data_dir, partition, fn)) as f:\n",
    "            shards.append(pd.read_csv(f, index_col=None))\n",
    "    return pd.concat(shards)\n",
    "\n",
    "test = read_all_shards('test')\n",
    "dev = read_all_shards('dev')\n",
    "train = read_all_shards('train')\n",
    "\n",
    "partitions = {'test': test, 'dev': dev, 'train': train}\n",
    "for name, df in partitions.items():\n",
    "    print('Dataset partition \"%s\" has %d sequences' % (name, len(df)))"
   ]
  },
  {
   "cell_type": "code",
   "execution_count": 12,
   "metadata": {},
   "outputs": [
    {
     "data": {
      "text/html": [
       "<div>\n",
       "<style scoped>\n",
       "    .dataframe tbody tr th:only-of-type {\n",
       "        vertical-align: middle;\n",
       "    }\n",
       "\n",
       "    .dataframe tbody tr th {\n",
       "        vertical-align: top;\n",
       "    }\n",
       "\n",
       "    .dataframe thead th {\n",
       "        text-align: right;\n",
       "    }\n",
       "</style>\n",
       "<table border=\"1\" class=\"dataframe\">\n",
       "  <thead>\n",
       "    <tr style=\"text-align: right;\">\n",
       "      <th></th>\n",
       "      <th>family_id</th>\n",
       "      <th>sequence_name</th>\n",
       "      <th>family_accession</th>\n",
       "      <th>aligned_sequence</th>\n",
       "      <th>sequence</th>\n",
       "    </tr>\n",
       "  </thead>\n",
       "  <tbody>\n",
       "    <tr>\n",
       "      <td>0</td>\n",
       "      <td>GNAT_acetyltran</td>\n",
       "      <td>R6RQF6_9CLOT/17-251</td>\n",
       "      <td>PF12746.7</td>\n",
       "      <td>AFLFSGR..REVMAD....ACLQGMM..GCVYG..........TAG...</td>\n",
       "      <td>AFLFSGRREVMADACLQGMMGCVYGTAGGMDSAAAVLGDFCFLAGK...</td>\n",
       "    </tr>\n",
       "    <tr>\n",
       "      <td>1</td>\n",
       "      <td>MoaC</td>\n",
       "      <td>W5NKR5_LEPOC/505-640</td>\n",
       "      <td>PF01967.21</td>\n",
       "      <td>MVDVGGK.PVSRRTAAASATVLLG.EK..........AFWLV.......</td>\n",
       "      <td>MVDVGGKPVSRRTAAASATVLLGEKAFWLVKENQLAKGDALAVAQI...</td>\n",
       "    </tr>\n",
       "    <tr>\n",
       "      <td>2</td>\n",
       "      <td>Methyltransf_25</td>\n",
       "      <td>C0QLU8_DESAH/50-147</td>\n",
       "      <td>PF13649.6</td>\n",
       "      <td>VLDVACGT.C...D..VA...ME..AR.NQ.......T....G......</td>\n",
       "      <td>VLDVACGTCDVAMEARNQTGDAAFIIGTDFSPGMLTLGLQKLKKNR...</td>\n",
       "    </tr>\n",
       "    <tr>\n",
       "      <td>3</td>\n",
       "      <td>EMG1</td>\n",
       "      <td>T1G7Q2_HELRO/22-222</td>\n",
       "      <td>PF03587.14</td>\n",
       "      <td>VVLERASLESVKV..G.................KEYQLLN....CD...</td>\n",
       "      <td>VVLERASLESVKVGKEYQLLNCDRHKGIAKKFKRDISTCRPDITHQ...</td>\n",
       "    </tr>\n",
       "    <tr>\n",
       "      <td>4</td>\n",
       "      <td>Glyco_hydro_30C</td>\n",
       "      <td>C6VRM9_DYAFD/453-540</td>\n",
       "      <td>PF17189.4</td>\n",
       "      <td>GAVRVDVSGGLGTD...............AMVVSSYLN..TDKSLV...</td>\n",
       "      <td>GAVRVDVSGGLGTDAMVVSSYLNTDKSLVTVIVNADNQDRDISLAI...</td>\n",
       "    </tr>\n",
       "    <tr>\n",
       "      <td>...</td>\n",
       "      <td>...</td>\n",
       "      <td>...</td>\n",
       "      <td>...</td>\n",
       "      <td>...</td>\n",
       "      <td>...</td>\n",
       "    </tr>\n",
       "    <tr>\n",
       "      <td>12466</td>\n",
       "      <td>SCP2_2</td>\n",
       "      <td>Q73XI4_MYCPA/309-409</td>\n",
       "      <td>PF13530.6</td>\n",
       "      <td>VPEVLG....ARGYA...ADT....................DIVLD...</td>\n",
       "      <td>VPEVLGARGYAADTDIVLDVTDPLGLAGGRFQLQTRDGAGKCTPHD...</td>\n",
       "    </tr>\n",
       "    <tr>\n",
       "      <td>12467</td>\n",
       "      <td>F_bP_aldolase</td>\n",
       "      <td>Q5SHF7_THET8/3-304</td>\n",
       "      <td>PF01116.20</td>\n",
       "      <td>VTGLEILRKARAEGY.GVGAFNT.........NNMEFTQAILEAAE...</td>\n",
       "      <td>VTGLEILRKARAEGYGVGAFNTNNMEFTQAILEAAEEMKSPVILAL...</td>\n",
       "    </tr>\n",
       "    <tr>\n",
       "      <td>12468</td>\n",
       "      <td>MinE</td>\n",
       "      <td>MINE_CLOPE/14-83</td>\n",
       "      <td>PF03776.14</td>\n",
       "      <td>.KQVAKDR.....LKVILI.HDR......G..EL..SD.EVLDKIR...</td>\n",
       "      <td>KQVAKDRLKVILIHDRGELSDEVLDKIRLEILDVLSKYVEIENEDV...</td>\n",
       "    </tr>\n",
       "    <tr>\n",
       "      <td>12469</td>\n",
       "      <td>Glyco_hydro_47</td>\n",
       "      <td>Q1K8A8_NEUCR/113-607</td>\n",
       "      <td>PF01532.20</td>\n",
       "      <td>AFLRCWSSYRT.....KAWMSDELEPVNGGR.............KD...</td>\n",
       "      <td>AFLRCWSSYRTKAWMSDELEPVNGGRKDTFGGWGATLVDSLDTLWI...</td>\n",
       "    </tr>\n",
       "    <tr>\n",
       "      <td>12470</td>\n",
       "      <td>Beta-Casp</td>\n",
       "      <td>A4CMY8_ROBBH/252-370</td>\n",
       "      <td>PF10996.8</td>\n",
       "      <td>.QAIMLIL....LKLR.QR...NR.........................</td>\n",
       "      <td>QAIMLILLKLRQRNRIPRLPVYIDSPMGTNVFELFGRFPNWHKLSR...</td>\n",
       "    </tr>\n",
       "  </tbody>\n",
       "</table>\n",
       "<p>126171 rows × 5 columns</p>\n",
       "</div>"
      ],
      "text/plain": [
       "             family_id         sequence_name family_accession  \\\n",
       "0      GNAT_acetyltran   R6RQF6_9CLOT/17-251        PF12746.7   \n",
       "1                 MoaC  W5NKR5_LEPOC/505-640       PF01967.21   \n",
       "2      Methyltransf_25   C0QLU8_DESAH/50-147        PF13649.6   \n",
       "3                 EMG1   T1G7Q2_HELRO/22-222       PF03587.14   \n",
       "4      Glyco_hydro_30C  C6VRM9_DYAFD/453-540        PF17189.4   \n",
       "...                ...                   ...              ...   \n",
       "12466           SCP2_2  Q73XI4_MYCPA/309-409        PF13530.6   \n",
       "12467    F_bP_aldolase    Q5SHF7_THET8/3-304       PF01116.20   \n",
       "12468             MinE      MINE_CLOPE/14-83       PF03776.14   \n",
       "12469   Glyco_hydro_47  Q1K8A8_NEUCR/113-607       PF01532.20   \n",
       "12470        Beta-Casp  A4CMY8_ROBBH/252-370        PF10996.8   \n",
       "\n",
       "                                        aligned_sequence  \\\n",
       "0      AFLFSGR..REVMAD....ACLQGMM..GCVYG..........TAG...   \n",
       "1      MVDVGGK.PVSRRTAAASATVLLG.EK..........AFWLV.......   \n",
       "2      VLDVACGT.C...D..VA...ME..AR.NQ.......T....G......   \n",
       "3      VVLERASLESVKV..G.................KEYQLLN....CD...   \n",
       "4      GAVRVDVSGGLGTD...............AMVVSSYLN..TDKSLV...   \n",
       "...                                                  ...   \n",
       "12466  VPEVLG....ARGYA...ADT....................DIVLD...   \n",
       "12467  VTGLEILRKARAEGY.GVGAFNT.........NNMEFTQAILEAAE...   \n",
       "12468  .KQVAKDR.....LKVILI.HDR......G..EL..SD.EVLDKIR...   \n",
       "12469  AFLRCWSSYRT.....KAWMSDELEPVNGGR.............KD...   \n",
       "12470  .QAIMLIL....LKLR.QR...NR.........................   \n",
       "\n",
       "                                                sequence  \n",
       "0      AFLFSGRREVMADACLQGMMGCVYGTAGGMDSAAAVLGDFCFLAGK...  \n",
       "1      MVDVGGKPVSRRTAAASATVLLGEKAFWLVKENQLAKGDALAVAQI...  \n",
       "2      VLDVACGTCDVAMEARNQTGDAAFIIGTDFSPGMLTLGLQKLKKNR...  \n",
       "3      VVLERASLESVKVGKEYQLLNCDRHKGIAKKFKRDISTCRPDITHQ...  \n",
       "4      GAVRVDVSGGLGTDAMVVSSYLNTDKSLVTVIVNADNQDRDISLAI...  \n",
       "...                                                  ...  \n",
       "12466  VPEVLGARGYAADTDIVLDVTDPLGLAGGRFQLQTRDGAGKCTPHD...  \n",
       "12467  VTGLEILRKARAEGYGVGAFNTNNMEFTQAILEAAEEMKSPVILAL...  \n",
       "12468  KQVAKDRLKVILIHDRGELSDEVLDKIRLEILDVLSKYVEIENEDV...  \n",
       "12469  AFLRCWSSYRTKAWMSDELEPVNGGRKDTFGGWGATLVDSLDTLWI...  \n",
       "12470  QAIMLILLKLRQRNRIPRLPVYIDSPMGTNVFELFGRFPNWHKLSR...  \n",
       "\n",
       "[126171 rows x 5 columns]"
      ]
     },
     "execution_count": 12,
     "metadata": {},
     "output_type": "execute_result"
    }
   ],
   "source": [
    "test"
   ]
  },
  {
   "cell_type": "code",
   "execution_count": 13,
   "metadata": {},
   "outputs": [
    {
     "data": {
      "text/html": [
       "<div>\n",
       "<style scoped>\n",
       "    .dataframe tbody tr th:only-of-type {\n",
       "        vertical-align: middle;\n",
       "    }\n",
       "\n",
       "    .dataframe tbody tr th {\n",
       "        vertical-align: top;\n",
       "    }\n",
       "\n",
       "    .dataframe thead th {\n",
       "        text-align: right;\n",
       "    }\n",
       "</style>\n",
       "<table border=\"1\" class=\"dataframe\">\n",
       "  <thead>\n",
       "    <tr style=\"text-align: right;\">\n",
       "      <th></th>\n",
       "      <th>family_id</th>\n",
       "      <th>sequence_name</th>\n",
       "      <th>family_accession</th>\n",
       "      <th>aligned_sequence</th>\n",
       "      <th>sequence</th>\n",
       "    </tr>\n",
       "  </thead>\n",
       "  <tbody>\n",
       "    <tr>\n",
       "      <td>0</td>\n",
       "      <td>GMC_oxred_C</td>\n",
       "      <td>A4WZS5_RHOS5/416-539</td>\n",
       "      <td>PF05199.13</td>\n",
       "      <td>PHPE.SRIRLST.RRDAHGMP.....IP.RIESRLGP............</td>\n",
       "      <td>PHPESRIRLSTRRDAHGMPIPRIESRLGPDAFARLRFMARTCRAIL...</td>\n",
       "    </tr>\n",
       "    <tr>\n",
       "      <td>1</td>\n",
       "      <td>DUF2887</td>\n",
       "      <td>K9QI92_9NOSO/3-203</td>\n",
       "      <td>PF11103.8</td>\n",
       "      <td>RDSIYYQIFKRFPALIFEL..VD.NRPPQAQNYRFESVEVKETAFR...</td>\n",
       "      <td>RDSIYYQIFKRFPALIFELVDNRPPQAQNYRFESVEVKETAFRIDG...</td>\n",
       "    </tr>\n",
       "    <tr>\n",
       "      <td>2</td>\n",
       "      <td>zf-IS66</td>\n",
       "      <td>Q92LC9_RHIME/32-75</td>\n",
       "      <td>PF13005.7</td>\n",
       "      <td>.TCCPDCGG.E..LRLVGED.AS....EILDMI.AAQMKVIEVARL...</td>\n",
       "      <td>TCCPDCGGELRLVGEDASEILDMIAAQMKVIEVARLKKSCRCCE</td>\n",
       "    </tr>\n",
       "    <tr>\n",
       "      <td>3</td>\n",
       "      <td>Asp_decarbox</td>\n",
       "      <td>X2GQZ4_9BACI/1-115</td>\n",
       "      <td>PF02261.16</td>\n",
       "      <td>MLRMMMNSKIHRATVTEADLNYVGSITIDEDILDAVGMLPNEKVHI...</td>\n",
       "      <td>MLRMMMNSKIHRATVTEADLNYVGSITIDEDILDAVGMLPNEKVHI...</td>\n",
       "    </tr>\n",
       "    <tr>\n",
       "      <td>4</td>\n",
       "      <td>Filamin</td>\n",
       "      <td>A7SQM3_NEMVE/342-439</td>\n",
       "      <td>PF00630.19</td>\n",
       "      <td>TACPKQ.CTA....RGLG.............LK.AAPVT.QPT..R...</td>\n",
       "      <td>TACPKQCTARGLGLKAAPVTQPTRFVVILNDCHGQPLGRSEGELEV...</td>\n",
       "    </tr>\n",
       "    <tr>\n",
       "      <td>...</td>\n",
       "      <td>...</td>\n",
       "      <td>...</td>\n",
       "      <td>...</td>\n",
       "      <td>...</td>\n",
       "      <td>...</td>\n",
       "    </tr>\n",
       "    <tr>\n",
       "      <td>13510</td>\n",
       "      <td>DUF4276</td>\n",
       "      <td>B1Y1D3_LEPCP/11-206</td>\n",
       "      <td>PF14103.6</td>\n",
       "      <td>VEEPSMEAFLHALLPRLMPAR..RTF..EIHP.................</td>\n",
       "      <td>VEEPSMEAFLHALLPRLMPARRTFEIHPFQGKDDLMAKLEARLRAY...</td>\n",
       "    </tr>\n",
       "    <tr>\n",
       "      <td>13511</td>\n",
       "      <td>Lipoprotein_3</td>\n",
       "      <td>Y645_MYCPN/25-108</td>\n",
       "      <td>PF00938.17</td>\n",
       "      <td>AATQVISSLSSAQKYFESSQG.ELNKKNVIKILKEGYESDANKAVH...</td>\n",
       "      <td>AATQVISSLSSAQKYFESSQGELNKKNVIKILKEGYESDANKAVHA...</td>\n",
       "    </tr>\n",
       "    <tr>\n",
       "      <td>13512</td>\n",
       "      <td>Ribosomal_S6</td>\n",
       "      <td>I4DCK0_DESAJ/3-92</td>\n",
       "      <td>PF01250.17</td>\n",
       "      <td>AYEILY...I...I...R...P.D..MDEE..ATN......A.......</td>\n",
       "      <td>AYEILYIIRPDMDEEATNALVDRLSGLAASNGGQNVTVDKWGKRRL...</td>\n",
       "    </tr>\n",
       "    <tr>\n",
       "      <td>13513</td>\n",
       "      <td>Sterile</td>\n",
       "      <td>K7J1J9_NASVI/384-476</td>\n",
       "      <td>PF03015.19</td>\n",
       "      <td>LDYVPALVADLLAV...LH.GNA.......P.......DSWA.......</td>\n",
       "      <td>LDYVPALVADLLAVLHGNAPDSWALLRESMGDMCRLHRFSSGNWRI...</td>\n",
       "    </tr>\n",
       "    <tr>\n",
       "      <td>13514</td>\n",
       "      <td>Alkyl_sulf_dimr</td>\n",
       "      <td>A7HQ20_PARL1/362-499</td>\n",
       "      <td>PF14863.6</td>\n",
       "      <td>TPLEIAEEL.T.LPPTLASE.WYTRGYYGTLNHNAKAVYQRYLG.W...</td>\n",
       "      <td>TPLEIAEELTLPPTLASEWYTRGYYGTLNHNAKAVYQRYLGWFDGN...</td>\n",
       "    </tr>\n",
       "  </tbody>\n",
       "</table>\n",
       "<p>1086741 rows × 5 columns</p>\n",
       "</div>"
      ],
      "text/plain": [
       "             family_id         sequence_name family_accession  \\\n",
       "0          GMC_oxred_C  A4WZS5_RHOS5/416-539       PF05199.13   \n",
       "1              DUF2887    K9QI92_9NOSO/3-203        PF11103.8   \n",
       "2              zf-IS66    Q92LC9_RHIME/32-75        PF13005.7   \n",
       "3         Asp_decarbox    X2GQZ4_9BACI/1-115       PF02261.16   \n",
       "4              Filamin  A7SQM3_NEMVE/342-439       PF00630.19   \n",
       "...                ...                   ...              ...   \n",
       "13510          DUF4276   B1Y1D3_LEPCP/11-206        PF14103.6   \n",
       "13511    Lipoprotein_3     Y645_MYCPN/25-108       PF00938.17   \n",
       "13512     Ribosomal_S6     I4DCK0_DESAJ/3-92       PF01250.17   \n",
       "13513          Sterile  K7J1J9_NASVI/384-476       PF03015.19   \n",
       "13514  Alkyl_sulf_dimr  A7HQ20_PARL1/362-499        PF14863.6   \n",
       "\n",
       "                                        aligned_sequence  \\\n",
       "0      PHPE.SRIRLST.RRDAHGMP.....IP.RIESRLGP............   \n",
       "1      RDSIYYQIFKRFPALIFEL..VD.NRPPQAQNYRFESVEVKETAFR...   \n",
       "2      .TCCPDCGG.E..LRLVGED.AS....EILDMI.AAQMKVIEVARL...   \n",
       "3      MLRMMMNSKIHRATVTEADLNYVGSITIDEDILDAVGMLPNEKVHI...   \n",
       "4      TACPKQ.CTA....RGLG.............LK.AAPVT.QPT..R...   \n",
       "...                                                  ...   \n",
       "13510  VEEPSMEAFLHALLPRLMPAR..RTF..EIHP.................   \n",
       "13511  AATQVISSLSSAQKYFESSQG.ELNKKNVIKILKEGYESDANKAVH...   \n",
       "13512  AYEILY...I...I...R...P.D..MDEE..ATN......A.......   \n",
       "13513  LDYVPALVADLLAV...LH.GNA.......P.......DSWA.......   \n",
       "13514  TPLEIAEEL.T.LPPTLASE.WYTRGYYGTLNHNAKAVYQRYLG.W...   \n",
       "\n",
       "                                                sequence  \n",
       "0      PHPESRIRLSTRRDAHGMPIPRIESRLGPDAFARLRFMARTCRAIL...  \n",
       "1      RDSIYYQIFKRFPALIFELVDNRPPQAQNYRFESVEVKETAFRIDG...  \n",
       "2           TCCPDCGGELRLVGEDASEILDMIAAQMKVIEVARLKKSCRCCE  \n",
       "3      MLRMMMNSKIHRATVTEADLNYVGSITIDEDILDAVGMLPNEKVHI...  \n",
       "4      TACPKQCTARGLGLKAAPVTQPTRFVVILNDCHGQPLGRSEGELEV...  \n",
       "...                                                  ...  \n",
       "13510  VEEPSMEAFLHALLPRLMPARRTFEIHPFQGKDDLMAKLEARLRAY...  \n",
       "13511  AATQVISSLSSAQKYFESSQGELNKKNVIKILKEGYESDANKAVHA...  \n",
       "13512  AYEILYIIRPDMDEEATNALVDRLSGLAASNGGQNVTVDKWGKRRL...  \n",
       "13513  LDYVPALVADLLAVLHGNAPDSWALLRESMGDMCRLHRFSSGNWRI...  \n",
       "13514  TPLEIAEELTLPPTLASEWYTRGYYGTLNHNAKAVYQRYLGWFDGN...  \n",
       "\n",
       "[1086741 rows x 5 columns]"
      ]
     },
     "execution_count": 13,
     "metadata": {},
     "output_type": "execute_result"
    }
   ],
   "source": [
    "train"
   ]
  },
  {
   "cell_type": "markdown",
   "metadata": {},
   "source": [
    "#### Prepare for train and test data"
   ]
  },
  {
   "cell_type": "code",
   "execution_count": 14,
   "metadata": {},
   "outputs": [],
   "source": [
    "from keras.preprocessing import sequence\n",
    "from keras.models import Sequential\n",
    "from keras.layers import Dense, Dropout, Embedding, LSTM, Bidirectional\n",
    "from keras.utils import to_categorical"
   ]
  },
  {
   "cell_type": "code",
   "execution_count": 15,
   "metadata": {},
   "outputs": [],
   "source": [
    "vocab = {'.': 0, 'M': 1, 'H': 2, 'B': 3, 'W': 4, 'R': 5, 'U': 6, \n",
    "         'I': 7, 'O': 8, 'L': 9, 'T': 10, 'D': 11, 'F': 12, 'X': 13, \n",
    "         'Q': 14, 'K': 15, 'N': 16, 'A': 17, 'E': 18, 'Y': 19, \n",
    "         'V': 20, 'Z': 21, 'S': 22, 'P': 23, 'C': 24, 'G': 25}"
   ]
  },
  {
   "cell_type": "markdown",
   "metadata": {},
   "source": [
    "#### Prepare for X"
   ]
  },
  {
   "cell_type": "code",
   "execution_count": null,
   "metadata": {},
   "outputs": [
    {
     "name": "stdout",
     "output_type": "stream",
     "text": [
      "No 0 in training part\n",
      "No 10000 in training part\n",
      "No 20000 in training part\n",
      "No 30000 in training part\n",
      "No 40000 in training part\n",
      "No 50000 in training part\n",
      "No 60000 in training part\n",
      "No 70000 in training part\n",
      "No 80000 in training part\n"
     ]
    }
   ],
   "source": [
    "%%time\n",
    "X_train_raw, X_test_raw = train['aligned_sequence'].values, test['aligned_sequence'].values\n",
    "X_train, X_test = [], []\n",
    "\n",
    "for idx, x in enumerate(X_train_raw):\n",
    "    if idx % 10000 == 0:\n",
    "        print(\"No %d in training part\" % idx)\n",
    "    X_train.append([to_categorical(vocab.get(ch, len(vocab)), len(vocab)) for ch in x])\n",
    "for idx, x in enumerate(X_test_raw):\n",
    "    if idx % 10000 == 0:\n",
    "        print(\"No %d in testing part\" % idx)\n",
    "    X_test.append([to_categorical(vocab.get(ch, len(vocab)), len(vocab)) for ch in x])\n",
    "X_train = np.matrix(X_train)\n",
    "X_test = np.matrix(X_test)"
   ]
  },
  {
   "cell_type": "code",
   "execution_count": 21,
   "metadata": {},
   "outputs": [],
   "source": [
    "y_train_raw, y_test_raw = train['family_id'].values, test['family_id'].values"
   ]
  },
  {
   "cell_type": "code",
   "execution_count": 22,
   "metadata": {},
   "outputs": [],
   "source": [
    "all_fam = {fam: idx for idx, fam in enumerate(list(set(y_train_raw)))}"
   ]
  },
  {
   "cell_type": "code",
   "execution_count": 23,
   "metadata": {},
   "outputs": [],
   "source": [
    "y_train = np.array([all_fam.get(fam, len(all_fam)) for fam in y_train_raw])\n",
    "y_test = np.array([all_fam.get(fam, len(all_fam)) for fam in y_test_raw])"
   ]
  },
  {
   "cell_type": "code",
   "execution_count": 24,
   "metadata": {},
   "outputs": [
    {
     "data": {
      "text/plain": [
       "array([ 5683, 17625,  4670, ...,  5133, 16801,  2827])"
      ]
     },
     "execution_count": 24,
     "metadata": {},
     "output_type": "execute_result"
    }
   ],
   "source": [
    "y_train"
   ]
  },
  {
   "cell_type": "code",
   "execution_count": 25,
   "metadata": {},
   "outputs": [],
   "source": [
    "y_train = np.array([to_categorical(y, num_classes=len(all_fam) for y in y_train)])\n",
    "y_test = np.array([to_categorical(y, num_classes=len(all_fam) for y in y_test)])"
   ]
  },
  {
   "cell_type": "code",
   "execution_count": 25,
   "metadata": {},
   "outputs": [],
   "source": [
    "outdir = '../data/preprocess'\n",
    "np.save(outdir + 'X_train', X_train)\n",
    "np.save(outdir + 'X_train', X_test)\n",
    "np.save(outdir + 'X_train', y_train)\n",
    "np.save(outdir + 'X_train', y_test)"
   ]
  }
 ],
 "metadata": {
  "kernelspec": {
   "display_name": "Python 3",
   "language": "python",
   "name": "python3"
  },
  "language_info": {
   "codemirror_mode": {
    "name": "ipython",
    "version": 3
   },
   "file_extension": ".py",
   "mimetype": "text/x-python",
   "name": "python",
   "nbconvert_exporter": "python",
   "pygments_lexer": "ipython3",
   "version": "3.7.3"
  }
 },
 "nbformat": 4,
 "nbformat_minor": 4
}
